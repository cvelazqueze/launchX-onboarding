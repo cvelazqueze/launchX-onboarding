{
 "cells": [
  {
   "cell_type": "markdown",
   "metadata": {},
   "source": [
    "## Ejercicio 1: Crear y usar listas de Python"
   ]
  },
  {
   "cell_type": "code",
   "execution_count": 6,
   "metadata": {},
   "outputs": [
    {
     "name": "stdout",
     "output_type": "stream",
     "text": [
      "Planetas: ['Mercury', 'Venus', 'Earth', 'Mars', 'Jupiter', 'Saturn', 'Uranus', 'Neptune']\n",
      "Cantidad de planetas: 8\n",
      "Planetas: ['Mercury', 'Venus', 'Earth', 'Mars', 'Jupiter', 'Saturn', 'Uranus', 'Neptune', 'Pluto']\n",
      "Cantidad de planetas: 9\n",
      "Pluto is the last planet\n"
     ]
    }
   ],
   "source": [
    "#Creamos la lista planetas y la mostramos\n",
    "\n",
    "planetas = ['Mercury', 'Venus', 'Earth', 'Mars', 'Jupiter', 'Saturn', 'Uranus', 'Neptune']\n",
    "print(\"Planetas:\", planetas)\n",
    "print(\"Cantidad de planetas:\", len(planetas))\n",
    "\n",
    "#Añadir Pluton\n",
    "planetas.append(\"Pluto\")\n",
    "print(\"Planetas:\", planetas)\n",
    "print(\"Cantidad de planetas:\", len(planetas))\n",
    "print(planetas[-1], 'is the last planet')\n"
   ]
  },
  {
   "cell_type": "markdown",
   "metadata": {},
   "source": [
    "## Ejercicio 2"
   ]
  },
  {
   "cell_type": "code",
   "execution_count": 3,
   "metadata": {},
   "outputs": [
    {
     "name": "stdout",
     "output_type": "stream",
     "text": [
      "Los planetas mas cercanos al sol que Mercurio son:\n",
      "[]\n",
      "Los planetas mas lejanos al sol que Mercurio son:\n",
      "['Venus', 'Tierra', 'Marte', 'Jupiter', 'Saturno', 'Urano', 'Neptuno']\n"
     ]
    }
   ],
   "source": [
    "#Lista de planetas\n",
    "planetas = ['Mercurio', 'Venus', 'Tierra', 'Marte', 'Jupiter', 'Saturno', 'Urano', 'Neptuno']\n",
    "\n",
    "#Solicitar nombre de planeta a buscar\n",
    "planetaUser = input(\"Proporciona el nombre de algun planeta\")\n",
    "\n",
    "#Buscar planeta en la lista y obtener los mas cercanos y lejanos\n",
    "planetIndex = planetas.index(planetaUser.capitalize())\n",
    "print(\"Los planetas mas cercanos al sol que\", planetaUser.capitalize(), \"son:\")\n",
    "print(planetas[0:planetIndex])\n",
    "print(\"Los planetas mas lejanos al sol que\", planetaUser.capitalize(), \"son:\")\n",
    "print(planetas[planetIndex+1:])\n"
   ]
  }
 ],
 "metadata": {
  "interpreter": {
   "hash": "949777d72b0d2535278d3dc13498b2535136f6dfe0678499012e853ee9abcab1"
  },
  "kernelspec": {
   "display_name": "Python 3.10.1 64-bit",
   "language": "python",
   "name": "python3"
  },
  "language_info": {
   "codemirror_mode": {
    "name": "ipython",
    "version": 3
   },
   "file_extension": ".py",
   "mimetype": "text/x-python",
   "name": "python",
   "nbconvert_exporter": "python",
   "pygments_lexer": "ipython3",
   "version": "3.10.1"
  },
  "orig_nbformat": 4
 },
 "nbformat": 4,
 "nbformat_minor": 2
}
