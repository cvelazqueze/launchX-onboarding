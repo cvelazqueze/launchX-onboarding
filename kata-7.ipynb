{
 "cells": [
  {
   "cell_type": "markdown",
   "metadata": {},
   "source": [
    "## Ejercicio 1"
   ]
  },
  {
   "cell_type": "code",
   "execution_count": 1,
   "metadata": {},
   "outputs": [
    {
     "name": "stdout",
     "output_type": "stream",
     "text": [
      "['one', 'tue', 'tire']\n"
     ]
    }
   ],
   "source": [
    "nvoPlaneta = ''\n",
    "planetas = []\n",
    "\n",
    "while nvoPlaneta.lower() != 'listo':\n",
    "    if nvoPlaneta:\n",
    "        planetas.append(nvoPlaneta)\n",
    "    nvoPlaneta = input(\"Ingrese un nuevo planeta\")\n",
    "\n",
    "print(planetas)"
   ]
  },
  {
   "cell_type": "markdown",
   "metadata": {},
   "source": [
    "## Ejercicio 2"
   ]
  },
  {
   "cell_type": "code",
   "execution_count": 2,
   "metadata": {},
   "outputs": [
    {
     "name": "stdout",
     "output_type": "stream",
     "text": [
      "one\n",
      "due\n",
      "trie\n",
      "fue\n"
     ]
    }
   ],
   "source": [
    "nvoPlaneta = ''\n",
    "planetas = []\n",
    "\n",
    "while nvoPlaneta.lower() != 'listo':\n",
    "    if nvoPlaneta:\n",
    "        planetas.append(nvoPlaneta)\n",
    "    nvoPlaneta = input(\"Ingrese un nuevo planeta\")\n",
    "\n",
    "for planeta in planetas:\n",
    "    print(planeta)"
   ]
  }
 ],
 "metadata": {
  "interpreter": {
   "hash": "949777d72b0d2535278d3dc13498b2535136f6dfe0678499012e853ee9abcab1"
  },
  "kernelspec": {
   "display_name": "Python 3.10.1 64-bit",
   "language": "python",
   "name": "python3"
  },
  "language_info": {
   "codemirror_mode": {
    "name": "ipython",
    "version": 3
   },
   "file_extension": ".py",
   "mimetype": "text/x-python",
   "name": "python",
   "nbconvert_exporter": "python",
   "pygments_lexer": "ipython3",
   "version": "3.10.1"
  },
  "orig_nbformat": 4
 },
 "nbformat": 4,
 "nbformat_minor": 2
}
