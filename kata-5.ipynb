{
 "cells": [
  {
   "cell_type": "markdown",
   "metadata": {},
   "source": [
    "## Ejercicio 1:"
   ]
  },
  {
   "cell_type": "code",
   "execution_count": 7,
   "metadata": {},
   "outputs": [
    {
     "name": "stdout",
     "output_type": "stream",
     "text": [
      "Distancia entre planetas:  629000000 kms\n",
      "En millas:  390609000.0 mi\n"
     ]
    }
   ],
   "source": [
    "# Crear variables para almacenar las dos distancias\n",
    "# ¡Asegúrate de quitar las comas!\n",
    "\n",
    "#Planeta   Distancia al Sol\n",
    "mercurio = 57900000\n",
    "venus = 108200000\n",
    "tierra = 149600000\n",
    "marte = 227900000\n",
    "jupiter = 778600000\n",
    "saturno = 1433500000\n",
    "urano = 2872500000\n",
    "neptuno = 4495100000\n",
    "\n",
    "planet1 = tierra\n",
    "planet2 = jupiter\n",
    "\n",
    "#Calcular distancia entre planetas\n",
    "distanceBetweenPlanets = planet2 - planet1\n",
    "distanceInMiles = distanceBetweenPlanets * 0.621\n",
    "\n",
    "print(\"Distancia entre planetas: \", distanceBetweenPlanets, \"kms\")\n",
    "print(\"En millas: \", distanceInMiles, \"mi\")"
   ]
  },
  {
   "cell_type": "markdown",
   "metadata": {},
   "source": [
    "## Ejercicio 2"
   ]
  },
  {
   "cell_type": "code",
   "execution_count": 2,
   "metadata": {},
   "outputs": [
    {
     "name": "stdout",
     "output_type": "stream",
     "text": [
      "Distancia entre planetas:  178 kms\n",
      "En millas:  110.538 mi\n"
     ]
    }
   ],
   "source": [
    "\n",
    "\n",
    "planet1 = input(\"Introduzca la distancia al sol para el primer planeta en kms\")\n",
    "planet2 = input(\"Introduzca la distancia al sol para el segundo planeta en kms\")\n",
    "\n",
    "#Calcular distancia entre planetas\n",
    "distanceBetweenPlanets = int(planet2) - int(planet1)\n",
    "distanceInMiles = distanceBetweenPlanets * 0.621\n",
    "\n",
    "print(\"Distancia entre planetas: \", abs(distanceBetweenPlanets), \"kms\")\n",
    "print(\"En millas: \", abs(distanceInMiles), \"mi\")"
   ]
  }
 ],
 "metadata": {
  "interpreter": {
   "hash": "949777d72b0d2535278d3dc13498b2535136f6dfe0678499012e853ee9abcab1"
  },
  "kernelspec": {
   "display_name": "Python 3.10.1 64-bit",
   "language": "python",
   "name": "python3"
  },
  "language_info": {
   "codemirror_mode": {
    "name": "ipython",
    "version": 3
   },
   "file_extension": ".py",
   "mimetype": "text/x-python",
   "name": "python",
   "nbconvert_exporter": "python",
   "pygments_lexer": "ipython3",
   "version": "3.10.1"
  },
  "orig_nbformat": 4
 },
 "nbformat": 4,
 "nbformat_minor": 2
}
